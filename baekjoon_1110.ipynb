{
  "nbformat": 4,
  "nbformat_minor": 0,
  "metadata": {
    "colab": {
      "name": "baekjoon_1110.ipynb",
      "provenance": []
    },
    "kernelspec": {
      "name": "python3",
      "display_name": "Python 3"
    },
    "language_info": {
      "name": "python"
    }
  },
  "cells": [
    {
      "cell_type": "markdown",
      "metadata": {
        "id": "mZUWt7oXB7YM"
      },
      "source": [
        "##1. int 이용 방법"
      ]
    },
    {
      "cell_type": "code",
      "metadata": {
        "colab": {
          "base_uri": "https://localhost:8080/"
        },
        "id": "lO7d9Gj0BJ3O",
        "outputId": "875eade3-7244-497f-e15d-9a2eacca1e18"
      },
      "source": [
        "n = int(input())\n",
        "num = n\n",
        "count = 0\n",
        "\n",
        "while True:\n",
        "    a = num // 10\n",
        "    b = num % 10\n",
        "    c = (a+b) % 10\n",
        "    num = (b * 10) + c\n",
        "\n",
        "    count += 1\n",
        "    if num==n:\n",
        "      break\n",
        "  \n",
        "print(count)"
      ],
      "execution_count": 2,
      "outputs": [
        {
          "output_type": "stream",
          "name": "stdout",
          "text": [
            "26\n",
            "4\n"
          ]
        }
      ]
    },
    {
      "cell_type": "markdown",
      "metadata": {
        "id": "7Xx25yylCBQZ"
      },
      "source": [
        "## 2. str 이용 방법"
      ]
    },
    {
      "cell_type": "code",
      "metadata": {
        "colab": {
          "base_uri": "https://localhost:8080/"
        },
        "id": "RRNOD7euCJYF",
        "outputId": "ee8217a7-b567-4931-f4c2-5adc4c26ab1c"
      },
      "source": [
        "n = input()\n",
        "num = n\n",
        "count = 0\n",
        "\n",
        "while 1:\n",
        "  if len(num) == 1:\n",
        "    num = \"0\" + num\n",
        "  plus = str(int(num[0]) + int(num[1]))\n",
        "  num = num[-1] + plus[-1]\n",
        "  count += 1\n",
        "  if num == n:\n",
        "     print(count)\n",
        "    break"
      ],
      "execution_count": 4,
      "outputs": [
        {
          "output_type": "stream",
          "name": "stdout",
          "text": [
            "26\n",
            "4\n"
          ]
        }
      ]
    }
  ]
}