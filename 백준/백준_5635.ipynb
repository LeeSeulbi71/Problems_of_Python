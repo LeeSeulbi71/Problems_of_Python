{
  "nbformat": 4,
  "nbformat_minor": 0,
  "metadata": {
    "colab": {
      "name": "Baekjoon_5635.ipynb",
      "provenance": []
    },
    "kernelspec": {
      "name": "python3",
      "display_name": "Python 3"
    },
    "language_info": {
      "name": "python"
    }
  },
  "cells": [
    {
      "cell_type": "markdown",
      "metadata": {
        "id": "BbRQ5SYQ7a_t"
      },
      "source": [
        "## Baekjoon 5635번 생일"
      ]
    },
    {
      "cell_type": "markdown",
      "metadata": {
        "id": "O3U0nDCO7Ur5"
      },
      "source": [
        "- 아이디어 스케치\n",
        "1. 각 학생들의 생일이 주어짐\n",
        "2. 가장 나이가 적은 사람 and 많은 사람\n",
        "3. 첫째 줄: 반 학생 수 n\n",
        "4. 이름 dd mm yyyy\n",
        "5. 반복문 -> 년도 비교\n",
        "6. 중첩반복문 -> 월 비교\n",
        "7. 중첩반복문 -> 일 비교\n",
        "8. 일단 전부 다 리스트에 넣기!"
      ]
    },
    {
      "cell_type": "markdown",
      "metadata": {
        "id": "oWthPZiCDP1B"
      },
      "source": [
        "- sort 함수   \n",
        ": 오름차순으로 정력해주는 함수   \n",
        "(내림차순 정리 = sort(reverse=True) 나 reverse())   \n",
        "  - key 매개변수 -> sort는 key 값을 기준으로 정렬   \n",
        "    = 정렬을 목적으로 하는 함수를 값으로 넣음 (lambda 이용)\n",
        "  - lambda = 기존함수를 선언하고 사용하던 방식과는 달리 정의하여 사용할 수 있는 함수 -> 이런 식으로 정렬을 해라!"
      ]
    },
    {
      "cell_type": "code",
      "metadata": {
        "colab": {
          "base_uri": "https://localhost:8080/",
          "height": 478
        },
        "id": "nz3XBhrX7Slb",
        "outputId": "e63647d7-e612-4cf4-d3b0-4fbb05d66c16"
      },
      "source": [
        "classes = int(input())\n",
        "students = []\n",
        "\n",
        "for student_index in range(classes): #리스트에 정보 추가\n",
        "   student = input().split(' ') #이름~생년월일 추가\n",
        "   student[1:] = map(int, student[1:]) #생년월일 정수 변환\n",
        "   students.append(student)\n",
        "\n",
        "students.sort(key = lambda student: (student[3], student[2], student[1]))\n",
        "\n",
        "print(students[-1][0]) #나이가 제일 적은 사람 -> 언제 끝날지 모르니까 -1을 씀\n",
        "print(student[0][0]) #나이가 제일 많은 사람\n"
      ],
      "execution_count": 1,
      "outputs": [
        {
          "name": "stdout",
          "output_type": "stream",
          "text": [
            "5\n",
            "Mickey 1 10 1991\n",
            "Alice 30 12 1990\n",
            "Tom 15 8 1993\n",
            "Jerry 18 9 1990\n",
            "Garfield 20 9 1990\n"
          ]
        },
        {
          "output_type": "error",
          "ename": "TypeError",
          "evalue": "ignored",
          "traceback": [
            "\u001b[0;31m---------------------------------------------------------------------------\u001b[0m",
            "\u001b[0;31mTypeError\u001b[0m                                 Traceback (most recent call last)",
            "\u001b[0;32m<ipython-input-1-cc4d24e3e3e4>\u001b[0m in \u001b[0;36m<module>\u001b[0;34m()\u001b[0m\n\u001b[1;32m      7\u001b[0m    \u001b[0mstudents\u001b[0m\u001b[0;34m.\u001b[0m\u001b[0mappend\u001b[0m\u001b[0;34m(\u001b[0m\u001b[0mstudent\u001b[0m\u001b[0;34m)\u001b[0m\u001b[0;34m\u001b[0m\u001b[0;34m\u001b[0m\u001b[0m\n\u001b[1;32m      8\u001b[0m \u001b[0;34m\u001b[0m\u001b[0m\n\u001b[0;32m----> 9\u001b[0;31m \u001b[0mstudent\u001b[0m\u001b[0;34m.\u001b[0m\u001b[0msort\u001b[0m\u001b[0;34m(\u001b[0m\u001b[0mkey\u001b[0m \u001b[0;34m=\u001b[0m \u001b[0;32mlambda\u001b[0m \u001b[0mstudent\u001b[0m\u001b[0;34m:\u001b[0m \u001b[0;34m(\u001b[0m\u001b[0mstudent\u001b[0m\u001b[0;34m[\u001b[0m\u001b[0;36m3\u001b[0m\u001b[0;34m]\u001b[0m\u001b[0;34m,\u001b[0m \u001b[0mstudent\u001b[0m\u001b[0;34m[\u001b[0m\u001b[0;36m2\u001b[0m\u001b[0;34m]\u001b[0m\u001b[0;34m,\u001b[0m \u001b[0mstudent\u001b[0m\u001b[0;34m[\u001b[0m\u001b[0;36m1\u001b[0m\u001b[0;34m]\u001b[0m\u001b[0;34m)\u001b[0m\u001b[0;34m)\u001b[0m\u001b[0;34m\u001b[0m\u001b[0;34m\u001b[0m\u001b[0m\n\u001b[0m\u001b[1;32m     10\u001b[0m \u001b[0;34m\u001b[0m\u001b[0m\n\u001b[1;32m     11\u001b[0m \u001b[0mprint\u001b[0m\u001b[0;34m(\u001b[0m\u001b[0mstudents\u001b[0m\u001b[0;34m[\u001b[0m\u001b[0;34m-\u001b[0m\u001b[0;36m1\u001b[0m\u001b[0;34m]\u001b[0m\u001b[0;34m[\u001b[0m\u001b[0;36m0\u001b[0m\u001b[0;34m]\u001b[0m\u001b[0;34m)\u001b[0m \u001b[0;31m#나이가 제일 적은 사람 -> 언제 끝날지 모르니까 -1을 씀\u001b[0m\u001b[0;34m\u001b[0m\u001b[0;34m\u001b[0m\u001b[0m\n",
            "\u001b[0;32m<ipython-input-1-cc4d24e3e3e4>\u001b[0m in \u001b[0;36m<lambda>\u001b[0;34m(student)\u001b[0m\n\u001b[1;32m      7\u001b[0m    \u001b[0mstudents\u001b[0m\u001b[0;34m.\u001b[0m\u001b[0mappend\u001b[0m\u001b[0;34m(\u001b[0m\u001b[0mstudent\u001b[0m\u001b[0;34m)\u001b[0m\u001b[0;34m\u001b[0m\u001b[0;34m\u001b[0m\u001b[0m\n\u001b[1;32m      8\u001b[0m \u001b[0;34m\u001b[0m\u001b[0m\n\u001b[0;32m----> 9\u001b[0;31m \u001b[0mstudent\u001b[0m\u001b[0;34m.\u001b[0m\u001b[0msort\u001b[0m\u001b[0;34m(\u001b[0m\u001b[0mkey\u001b[0m \u001b[0;34m=\u001b[0m \u001b[0;32mlambda\u001b[0m \u001b[0mstudent\u001b[0m\u001b[0;34m:\u001b[0m \u001b[0;34m(\u001b[0m\u001b[0mstudent\u001b[0m\u001b[0;34m[\u001b[0m\u001b[0;36m3\u001b[0m\u001b[0;34m]\u001b[0m\u001b[0;34m,\u001b[0m \u001b[0mstudent\u001b[0m\u001b[0;34m[\u001b[0m\u001b[0;36m2\u001b[0m\u001b[0;34m]\u001b[0m\u001b[0;34m,\u001b[0m \u001b[0mstudent\u001b[0m\u001b[0;34m[\u001b[0m\u001b[0;36m1\u001b[0m\u001b[0;34m]\u001b[0m\u001b[0;34m)\u001b[0m\u001b[0;34m)\u001b[0m\u001b[0;34m\u001b[0m\u001b[0;34m\u001b[0m\u001b[0m\n\u001b[0m\u001b[1;32m     10\u001b[0m \u001b[0;34m\u001b[0m\u001b[0m\n\u001b[1;32m     11\u001b[0m \u001b[0mprint\u001b[0m\u001b[0;34m(\u001b[0m\u001b[0mstudents\u001b[0m\u001b[0;34m[\u001b[0m\u001b[0;34m-\u001b[0m\u001b[0;36m1\u001b[0m\u001b[0;34m]\u001b[0m\u001b[0;34m[\u001b[0m\u001b[0;36m0\u001b[0m\u001b[0;34m]\u001b[0m\u001b[0;34m)\u001b[0m \u001b[0;31m#나이가 제일 적은 사람 -> 언제 끝날지 모르니까 -1을 씀\u001b[0m\u001b[0;34m\u001b[0m\u001b[0;34m\u001b[0m\u001b[0m\n",
            "\u001b[0;31mTypeError\u001b[0m: 'int' object is not subscriptable"
          ]
        }
      ]
    }
  ]
}