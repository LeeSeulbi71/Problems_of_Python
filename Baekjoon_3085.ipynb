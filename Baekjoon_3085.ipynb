{
  "nbformat": 4,
  "nbformat_minor": 0,
  "metadata": {
    "colab": {
      "name": "Baekjoon_3085.ipynb",
      "provenance": []
    },
    "kernelspec": {
      "name": "python3",
      "display_name": "Python 3"
    },
    "language_info": {
      "name": "python"
    }
  },
  "cells": [
    {
      "cell_type": "markdown",
      "metadata": {
        "id": "734yPKWMIPBr"
      },
      "source": [
        "## 백준 3085번 사탕 게임"
      ]
    },
    {
      "cell_type": "markdown",
      "metadata": {
        "id": "1rgzQTE5IVsT"
      },
      "source": [
        "- 아이디어 스케치   \n",
        "1. N x N 크기에 사탕을 채워 넣음\n",
        "2. 사탕의 색은 모두 같지 않을 수 있음\n",
        "3. 사탕의 색이 다른 인접한 두 칸을 고름\n",
        "4. 고른 칸에 들어있는 사탕을 서로 교환\n",
        "5. 모두 같은 색으로 이루어져 있는 연속 부분을 골라 그 사탕을 모두 먹음\n",
        "\n",
        "1. 첫째 줄 = 보드 크기 N\n",
        "2. N개 줄 -> 보드에 채워져 있는 사탕\n",
        "3. 빨 c 파 p 초 z 노 y\n",
        "4. 사탕의 색이 다른 인접한 두 칸이 존재하는 입력만 주어짐\n"
      ]
    },
    {
      "cell_type": "code",
      "metadata": {
        "id": "K-H5EA_0ITtC"
      },
      "source": [
        "import sys\n",
        "\n",
        "N = int(sys.stdin.readline())\n",
        "\n",
        "board = [list(map(str, input())) for _ in range(N)]\n",
        "\n",
        "res = 0\n",
        "\n",
        "def check(board):\n",
        "    cnt = 0\n",
        "    for i in range(N):\n",
        "        cnt_row = 1\n",
        "        cnt_col = 1\n",
        "        for j in range(N-1):\n",
        "            if board[i][j] == board[i][j+1]:\n",
        "                cnt_row += 1\n",
        "            else:\n",
        "                cnt = max(cnt, cnt_row)\n",
        "                cnt_row = 1\n",
        "                \n",
        "            if board[j][i] == board[j+1][i]:\n",
        "                cnt_col += 1\n",
        "            else:\n",
        "                cnt = max(cnt, cnt_col)\n",
        "                cnt_col = 1\n",
        "        cnt = max(cnt, cnt_row, cnt_col)\n",
        "    return cnt\n",
        "\n",
        "for i in range(N):\n",
        "    for j in range(N-1):\n",
        "        if board[i][j] != board[i][j+1]:\n",
        "            tmp = board[i][j]\n",
        "            board[i][j] = board[i][j+1]\n",
        "            board[i][j+1] = tmp\n",
        "\n",
        "            res = max(res, check(board))\n",
        "\n",
        "            tmp = board[i][j]\n",
        "            board[i][j] = board[i][j+1]\n",
        "            board[i][j+1] = tmp\n",
        "\n",
        "        if board[j][i] != board[j+1][i]:\n",
        "            tmp = board[j][i]\n",
        "            board[j][i] = board[j+1][i]\n",
        "            board[j+1][i] = tmp\n",
        "\n",
        "            res = max(res, check(board))\n",
        "\n",
        "            tmp = board[j][i]\n",
        "            board[j][i] = board[j+1][i]\n",
        "            board[j+1][i] = tmp\n",
        "\n",
        "print(res)"
      ],
      "execution_count": null,
      "outputs": []
    }
  ]
}