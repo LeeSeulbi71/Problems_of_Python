{
  "nbformat": 4,
  "nbformat_minor": 0,
  "metadata": {
    "colab": {
      "name": "Baekjoon_2869.ipynb",
      "provenance": [],
      "collapsed_sections": []
    },
    "kernelspec": {
      "name": "python3",
      "display_name": "Python 3"
    },
    "language_info": {
      "name": "python"
    }
  },
  "cells": [
    {
      "cell_type": "markdown",
      "metadata": {
        "id": "PAch23_0LtFC"
      },
      "source": [
        "# 백준 2869번"
      ]
    },
    {
      "cell_type": "code",
      "metadata": {
        "id": "TqDMyb-Bpd8B",
        "colab": {
          "base_uri": "https://localhost:8080/"
        },
        "outputId": "d1e264ff-c1d8-4fd1-ebc1-bb73f516fb0c"
      },
      "source": [
        "A,B,V = map(int, input().split())\n",
        "high = V-A # 이미 여기서 하루를 씀 -> 마지막에 first +1 해주는 이유!\n",
        "if high%(A-B) == 0:\n",
        "  first = int(high/(A-B)) #남은 거리를 하루에 갈 수 있는 속도로 나눠 줌 = 시간\n",
        "else:\n",
        "  first = int(high/(A-B)+1)#속도 (A-B)m/day\n",
        "\n",
        "print(first+1)"
      ],
      "execution_count": 3,
      "outputs": [
        {
          "output_type": "stream",
          "name": "stdout",
          "text": [
            "100 99 1000000000\n",
            "999999901\n"
          ]
        }
      ]
    },
    {
      "cell_type": "markdown",
      "metadata": {
        "id": "L4-MJVtkM3mD"
      },
      "source": [
        "- 시간 초과 때문에 까다로운 문제....\n",
        "- 만약 내가 원래 하려고 했던 while 1:의 반복문을 썼다면 시간 초과가 났을 것이다!\n",
        "  (k를 1부터 해당되는 날까지 모두 계산해야 하기 때문...)"
      ]
    }
  ]
}