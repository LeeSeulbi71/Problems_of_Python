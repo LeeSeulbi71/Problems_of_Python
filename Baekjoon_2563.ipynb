{
  "nbformat": 4,
  "nbformat_minor": 0,
  "metadata": {
    "colab": {
      "name": "Baekjoon_2563.ipynb",
      "provenance": [],
      "collapsed_sections": []
    },
    "kernelspec": {
      "name": "python3",
      "display_name": "Python 3"
    },
    "language_info": {
      "name": "python"
    }
  },
  "cells": [
    {
      "cell_type": "markdown",
      "metadata": {
        "id": "32FdsppfxKSZ"
      },
      "source": [
        "## 백준 2563번 색종이"
      ]
    },
    {
      "cell_type": "markdown",
      "metadata": {
        "id": "qrHtDeitxXQp"
      },
      "source": [
        "- 아이디어 스케치\n",
        "1. 전체 도화지 넓이 100 x 100   \n",
        "2. 색종이 10 x 10   \n",
        "3. 겹친 넓이를 구하는 것보다 남은 넓이를 구하는 게 쉽겠지?"
      ]
    },
    {
      "cell_type": "code",
      "metadata": {
        "id": "mnuqbqeKxCxz"
      },
      "source": [
        "\n",
        "n = int(input())\n",
        "white_board = [[0] * 100 for _ in range(100)]\n",
        " \n",
        "for _ in range(n):\n",
        "    a, b = map(int, input().split())\n",
        " \n",
        "    for i in range(b, b + 10):\n",
        "        for j in range(a, a + 10):\n",
        "            white_board[i][j] = 1\n",
        " \n",
        "cnt = 0\n",
        "for i in range(100):\n",
        "    for j in range(100):\n",
        "        if white_board[i][j]:\n",
        "            cnt += 1\n",
        " \n",
        "print(cnt)"
      ],
      "execution_count": null,
      "outputs": []
    }
  ]
}