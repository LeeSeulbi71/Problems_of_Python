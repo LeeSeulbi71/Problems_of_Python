{
  "nbformat": 4,
  "nbformat_minor": 2,
  "metadata": {
    "colab": {
      "name": "Baekjoon_11170.ipynb",
      "provenance": []
    },
    "kernelspec": {
      "name": "python3",
      "display_name": "Python 3"
    },
    "language_info": {
      "name": "python"
    }
  },
  "cells": [
    {
      "cell_type": "markdown",
      "source": [
        "## 백준 11170번 0의 계수\n"
      ],
      "metadata": {
        "id": "Yu-ntrVWdBw2"
      }
    },
    {
      "cell_type": "markdown",
      "source": [
        "- 아이디어 스케치   \n",
        "1. 테스트 케이스 개수\n",
        "2. 각 줄에는 N과 M\n",
        "3. 숫자를 input().split()\n",
        "4. 리스트로 바꾸고\n",
        "5. count = 0\n",
        "6. 반복문   \n",
        "  for i in len(리스트)\n",
        "    if i == 0\n",
        "    count+=1\n",
        "    else:\n",
        "    continue\n",
        "7. print(count)\n"
      ],
      "metadata": {
        "id": "0F5xBF9TdGs4"
      }
    },
    {
      "cell_type": "code",
      "execution_count": 14,
      "source": [
        "num = input().split()\r\n",
        "num_to_list = list(num)\r\n",
        "range_of_num = range(int(num_to_list[0]), int(num_to_list[1])+1)\r\n",
        "num_to_list = list(range_of_num)\r\n",
        "count = 0\r\n",
        "new_num_list = []\r\n",
        "\r\n",
        "for i in range(len(num_to_list)):\r\n",
        "    num_to_list[i] = str(num_to_list[i])\r\n",
        "\r\n",
        "for i in range(len(num_to_list)):\r\n",
        "    new_num_list = new_num_list.append(list(num_to_list[i]))\r\n",
        "print(str(num_to_list))\r\n",
        "print(type(num_to_list[0]))\r\n",
        "print(len(num_to_list))\r\n",
        "print(new_num_list)\r\n",
        "for i in range(len(num_to_list)):\r\n",
        "        if str(num_to_list[i]) == '0':\r\n",
        "            count += 1\r\n",
        "        else:\r\n",
        "            continue\r\n",
        "\r\n",
        "print(count)"
      ],
      "outputs": [
        {
          "output_type": "stream",
          "name": "stdout",
          "text": [
            "['12']\n"
          ]
        }
      ],
      "metadata": {
        "colab": {
          "base_uri": "https://localhost:8080/"
        },
        "id": "L-FBuz0Zdke7",
        "outputId": "b662c612-f295-4e9b-a19e-9ee47386a742"
      }
    },
    {
      "cell_type": "code",
      "execution_count": null,
      "source": [
        "처절한 노력의 결과물 ............ = 실패 ㅠㅠ"
      ],
      "outputs": [],
      "metadata": {
        "id": "0xxJZgqFfwA9"
      }
    },
    {
      "cell_type": "markdown",
      "source": [
        "아이디어 스케치 다시 하고 짬"
      ],
      "metadata": {
        "id": "VQX_zv2Pvexg"
      }
    },
    {
      "cell_type": "code",
      "execution_count": null,
      "source": [
        "x = int(input())\r\n",
        "for i in range(x):\r\n",
        "    count = 0\r\n",
        "    a, b = map(int, input().split())\r\n",
        "    for i in range(a, b+1):\r\n",
        "        w = str(i)\r\n",
        "        count += w.count('0')\r\n",
        "    print(count)"
      ],
      "outputs": [],
      "metadata": {
        "id": "nfzjYyCLvd6k"
      }
    },
    {
      "cell_type": "markdown",
      "source": [
        "(제발 기본 라이브러리 외우쟈....)"
      ],
      "metadata": {
        "id": "TXpjf9TiwNYr"
      }
    }
  ]
}