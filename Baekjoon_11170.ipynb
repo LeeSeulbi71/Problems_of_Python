{
  "nbformat": 4,
  "nbformat_minor": 0,
  "metadata": {
    "colab": {
      "name": "Baekjoon_11170.ipynb",
      "provenance": []
    },
    "kernelspec": {
      "name": "python3",
      "display_name": "Python 3"
    },
    "language_info": {
      "name": "python"
    }
  },
  "cells": [
    {
      "cell_type": "markdown",
      "metadata": {
        "id": "Yu-ntrVWdBw2"
      },
      "source": [
        "## 백준 11170번 0의 계수\n"
      ]
    },
    {
      "cell_type": "markdown",
      "metadata": {
        "id": "0F5xBF9TdGs4"
      },
      "source": [
        "- 아이디어 스케치   \n",
        "1. 테스트 케이스 개수\n",
        "2. 각 줄에는 N과 M\n",
        "3. 숫자를 input().split()\n",
        "4. 리스트로 바꾸고\n",
        "5. count = 0\n",
        "6. 반복문   \n",
        "  for i in len(리스트)\n",
        "    if i == 0\n",
        "    count+=1\n",
        "    else:\n",
        "    continue\n",
        "7. print(count)\n"
      ]
    },
    {
      "cell_type": "code",
      "metadata": {
        "colab": {
          "base_uri": "https://localhost:8080/"
        },
        "id": "L-FBuz0Zdke7",
        "outputId": "b662c612-f295-4e9b-a19e-9ee47386a742"
      },
      "source": [
        "num = input().split()\n",
        "num_to_list = list(num)\n",
        "range_of_num = range(int(num_to_list[0]), int(num_to_list[1])+1)\n",
        "num_to_list = list(range_of_num)\n",
        "count = 0\n",
        "new_num_list = []\n",
        "\n",
        "for i in range(len(num_to_list)):\n",
        "    num_to_list[i] = str(num_to_list[i])\n",
        "\n",
        "for i in range(len(num_to_list)):\n",
        "    new_num_list = new_num_list.append(list(num_to_list[i]))\n",
        "print(str(num_to_list))\n",
        "print(type(num_to_list[0]))\n",
        "print(len(num_to_list))\n",
        "print(new_num_list)\n",
        "for i in range(len(num_to_list)):\n",
        "        if str(num_to_list[i]) == '0':\n",
        "            count += 1\n",
        "        else:\n",
        "            continue\n",
        "\n",
        "print(count)"
      ],
      "execution_count": 14,
      "outputs": [
        {
          "output_type": "stream",
          "name": "stdout",
          "text": [
            "['12']\n"
          ]
        }
      ]
    },
    {
      "cell_type": "code",
      "metadata": {
        "id": "0xxJZgqFfwA9"
      },
      "source": [
        "처절한 노력의 결과물 ............ = 실패"
      ],
      "execution_count": null,
      "outputs": []
    },
    {
      "cell_type": "markdown",
      "metadata": {
        "id": "VQX_zv2Pvexg"
      },
      "source": [
        "아이디어 스케치 다시 하고 짬"
      ]
    },
    {
      "cell_type": "code",
      "metadata": {
        "id": "nfzjYyCLvd6k"
      },
      "source": [
        "x = int(input())\n",
        "for i in range(x):\n",
        "    count = 0\n",
        "    a, b = map(int, input().split())\n",
        "    for i in range(a, b+1):\n",
        "        w = str(i)\n",
        "        count += w.count('0')\n",
        "    print(count)"
      ],
      "execution_count": null,
      "outputs": []
    },
    {
      "cell_type": "markdown",
      "metadata": {
        "id": "TXpjf9TiwNYr"
      },
      "source": [
        "(제발 기본 라이브러리 외우쟈....)"
      ]
    }
  ]
}