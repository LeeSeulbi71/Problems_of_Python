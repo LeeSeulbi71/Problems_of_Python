{
  "nbformat": 4,
  "nbformat_minor": 0,
  "metadata": {
    "colab": {
      "name": "baekjoon_Hansu_32221415.ipynb",
      "provenance": []
    },
    "kernelspec": {
      "name": "python3",
      "display_name": "Python 3"
    },
    "language_info": {
      "name": "python"
    }
  },
  "cells": [
    {
      "cell_type": "code",
      "metadata": {
        "colab": {
          "base_uri": "https://localhost:8080/"
        },
        "id": "S2pWk9f2Vxwv",
        "outputId": "cb8bc825-5da3-4ef0-fb4b-e2b4786ff2e5"
      },
      "source": [
        "def hansu(num) :\n",
        "    hansu_cnt = 0\n",
        "    for i in range(1, num+1):\n",
        "        num_list = list(map(int, str(i)))\n",
        "        if i < 100: # 100 이하는 무조건 한수\n",
        "            hansu_cnt += 1\n",
        "        elif num_list[0]-num_list[1] == num_list[1]-num_list[2]: # 100 이상일 때! 등차수열의 조건 잘 확인.\n",
        "            hansu_cnt += 1\n",
        "    return hansu_cnt\n",
        "\n",
        "num = int(input())\n",
        "print(hansu(num))\n"
      ],
      "execution_count": 11,
      "outputs": [
        {
          "output_type": "stream",
          "name": "stdout",
          "text": [
            "110\n",
            "99\n"
          ]
        }
      ]
    },
    {
      "cell_type": "markdown",
      "metadata": {
        "id": "_NlJVNohSSEo"
      },
      "source": [
        "# **백준 32221415번**\n",
        "\n",
        "- **한수**: 어떤 양의 정수 X의 각 자리가 등차수열을 이룰 때의 수\n",
        "- **등차수열의 조건**: [0]-[1]==[1]-[2]\n",
        "\n",
        "\n",
        "\n",
        "\n",
        "---\n",
        "\n",
        "\n",
        "\n",
        "> 틀린 이유\n",
        ": 등차수열의 조건 때문에 정확히 어떤 조건문을 써야할지 몰랐음... 코딩을 잘하려면 수학과 영어를 열심히 하자...\n",
        "+ 들여쓰기 안하면 머리 박기 ^^\n",
        "\n",
        "\n",
        "---\n",
        "##*map 함수*\n",
        "\n",
        "1. map(function, iterable)\n",
        "  - 첫 번째 매개변수: 함수\n",
        "  - 두 번째 매개변수: 반복 가능한 자료형(리스트, 튜플 등)\n",
        "2. map 함수 반환값: map 객체 = list 혹은 tuple로 형 변환\n",
        "\n",
        "* 잠깐 쉬었더니 다 까먹었네 ~!~! ^^\n",
        "\n",
        "\n"
      ]
    }
  ]
}