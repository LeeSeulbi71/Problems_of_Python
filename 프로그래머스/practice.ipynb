{
 "cells": [
  {
   "cell_type": "code",
   "execution_count": 4,
   "metadata": {},
   "outputs": [
    {
     "name": "stdout",
     "output_type": "stream",
     "text": [
      "[2, 3, 5, 6]\n"
     ]
    }
   ],
   "source": [
    "array = [1,5,2,6,3,7,4]\n",
    "selected_array = array[1:5]\n",
    "selected_array.sort()\n",
    "print(selected_array)"
   ]
  },
  {
   "cell_type": "code",
   "execution_count": 4,
   "metadata": {},
   "outputs": [
    {
     "ename": "ValueError",
     "evalue": "invalid literal for int() with base 10: ''",
     "output_type": "error",
     "traceback": [
      "\u001b[1;31m---------------------------------------------------------------------------\u001b[0m",
      "\u001b[1;31mValueError\u001b[0m                                Traceback (most recent call last)",
      "\u001b[1;32m<ipython-input-4-1a387ada7cac>\u001b[0m in \u001b[0;36m<module>\u001b[1;34m\u001b[0m\n\u001b[1;32m----> 1\u001b[1;33m \u001b[0ma\u001b[0m \u001b[1;33m=\u001b[0m \u001b[0mint\u001b[0m\u001b[1;33m(\u001b[0m\u001b[0minput\u001b[0m\u001b[1;33m(\u001b[0m\u001b[1;33m)\u001b[0m\u001b[1;33m)\u001b[0m\u001b[1;33m\u001b[0m\u001b[1;33m\u001b[0m\u001b[0m\n\u001b[0m\u001b[0;32m      2\u001b[0m \u001b[0mprint\u001b[0m\u001b[1;33m(\u001b[0m\u001b[0ma\u001b[0m\u001b[1;33m)\u001b[0m\u001b[1;33m\u001b[0m\u001b[1;33m\u001b[0m\u001b[0m\n",
      "\u001b[1;31mValueError\u001b[0m: invalid literal for int() with base 10: ''"
     ]
    }
   ],
   "source": [
    "a = int(input())\n",
    "print(a)"
   ]
  },
  {
   "cell_type": "code",
   "execution_count": 5,
   "metadata": {},
   "outputs": [
    {
     "ename": "ValueError",
     "evalue": "invalid literal for int() with base 10: ''",
     "output_type": "error",
     "traceback": [
      "\u001b[1;31m---------------------------------------------------------------------------\u001b[0m",
      "\u001b[1;31mValueError\u001b[0m                                Traceback (most recent call last)",
      "\u001b[1;32m<ipython-input-5-0741cef1bb62>\u001b[0m in \u001b[0;36m<module>\u001b[1;34m\u001b[0m\n\u001b[1;32m----> 1\u001b[1;33m \u001b[0ma\u001b[0m\u001b[1;33m=\u001b[0m \u001b[0mint\u001b[0m\u001b[1;33m(\u001b[0m\u001b[0minput\u001b[0m\u001b[1;33m(\u001b[0m\u001b[1;33m)\u001b[0m\u001b[1;33m)\u001b[0m\u001b[1;33m\u001b[0m\u001b[1;33m\u001b[0m\u001b[0m\n\u001b[0m\u001b[0;32m      2\u001b[0m \u001b[0mprint\u001b[0m\u001b[1;33m(\u001b[0m\u001b[0ma\u001b[0m\u001b[1;33m)\u001b[0m\u001b[1;33m\u001b[0m\u001b[1;33m\u001b[0m\u001b[0m\n",
      "\u001b[1;31mValueError\u001b[0m: invalid literal for int() with base 10: ''"
     ]
    }
   ],
   "source": [
    "a= int(input())\n",
    "print(a)"
   ]
  },
  {
   "cell_type": "code",
   "execution_count": 12,
   "metadata": {},
   "outputs": [
    {
     "name": "stdout",
     "output_type": "stream",
     "text": [
      "None\n"
     ]
    }
   ],
   "source": [
    "def solution(participant, completion):\n",
    "    new_participant = []\n",
    "    for i in participant:\n",
    "        if i not in new_participant:\n",
    "            new_participant.append(i)\n",
    "    for j in new_participant:\n",
    "        if j in completion:\n",
    "            continue\n",
    "        elif j not in completion:\n",
    "            return j\n",
    "\n",
    "print(solution([\"mislav\", \"stanko\", \"mislav\", \"ana\"], [\"stanko\", \"ana\", \"mislav\"]))\n",
    "    \n",
    "\n"
   ]
  },
  {
   "cell_type": "code",
   "execution_count": 15,
   "metadata": {},
   "outputs": [
    {
     "name": "stdout",
     "output_type": "stream",
     "text": [
      "23\n",
      "['.', 'b', 'a', 't', '.', 'y', '.', 'a', 'b', 'c', 'd', 'e', 'f', 'g', 'h', 'i', 'j', 'k', 'l', 'm']\n"
     ]
    }
   ],
   "source": [
    "new_id = ['.', '.', '.', 'b', 'a', 't', '.', '.', 'y', '.', 'a', 'b', 'c', 'd', 'e', 'f', 'g', 'h', 'i', 'j', 'k', 'l', 'm']\n",
    "print(len(new_id))\n",
    "recommanded_id = []\n",
    "for i in range(len(new_id)):\n",
    "    if new_id[i] == '.':\n",
    "        if new_id[i-1] !='.':\n",
    "            recommanded_id += new_id[i]\n",
    "    else:\n",
    "        recommanded_id += new_id[i]\n",
    "print(recommanded_id)"
   ]
  },
  {
   "cell_type": "code",
   "execution_count": 16,
   "metadata": {},
   "outputs": [
    {
     "name": "stdout",
     "output_type": "stream",
     "text": [
      "1\n",
      "[1]\n",
      "7\n",
      "[1, 7]\n",
      "8\n",
      "[1, 7, 8]\n",
      "1\n",
      "[1, 7, 8, 1]\n",
      "7\n",
      "[1, 7, 8, 1, 7]\n",
      "8\n",
      "[1, 7, 8, 1, 7, 8]\n",
      "1\n",
      "[1, 7, 8, 1, 7, 8, 1]\n",
      "7\n",
      "[1, 7, 8, 1, 7, 8, 1, 7]\n",
      "8\n",
      "[1, 7, 8, 1, 7, 8, 1, 7, 8]\n",
      "[1, 7, 8, 1, 7, 8, 1, 7, 8, '1']\n",
      "1\n",
      "[1, 7, 8, 1, 7, 8, 1, 7, 8, '1', 1]\n",
      "7\n",
      "[1, 7, 8, 1, 7, 8, 1, 7, 8, '1', 1, 7]\n",
      "8\n",
      "[1, 7, 8, 1, 7, 8, 1, 7, 8, '1', 1, 7, 8]\n",
      "1\n",
      "[1, 7, 8, 1, 7, 8, 1, 7, 8, '1', 1, 7, 8, 1]\n",
      "7\n",
      "[1, 7, 8, 1, 7, 8, 1, 7, 8, '1', 1, 7, 8, 1, 7]\n",
      "8\n",
      "[1, 7, 8, 1, 7, 8, 1, 7, 8, '1', 1, 7, 8, 1, 7, 8]\n",
      "1\n",
      "[1, 7, 8, 1, 7, 8, 1, 7, 8, '1', 1, 7, 8, 1, 7, 8, 1]\n",
      "7\n",
      "[1, 7, 8, 1, 7, 8, 1, 7, 8, '1', 1, 7, 8, 1, 7, 8, 1, 7]\n",
      "8\n",
      "[1, 7, 8, 1, 7, 8, 1, 7, 8, '1', 1, 7, 8, 1, 7, 8, 1, 7, 8]\n",
      "1\n",
      "[1, 7, 8, 1, 7, 8, 1, 7, 8, '1', 1, 7, 8, 1, 7, 8, 1, 7, 8, 1]\n",
      "7\n",
      "[1, 7, 8, 1, 7, 8, 1, 7, 8, '1', 1, 7, 8, 1, 7, 8, 1, 7, 8, 1, 7]\n",
      "8\n",
      "[1, 7, 8, 1, 7, 8, 1, 7, 8, '1', 1, 7, 8, 1, 7, 8, 1, 7, 8, 1, 7, 8]\n",
      "1\n",
      "[1, 7, 8, 1, 7, 8, 1, 7, 8, '1', 1, 7, 8, 1, 7, 8, 1, 7, 8, 1, 7, 8, 1]\n",
      "7\n",
      "[1, 7, 8, 1, 7, 8, 1, 7, 8, '1', 1, 7, 8, 1, 7, 8, 1, 7, 8, 1, 7, 8, 1, 7]\n",
      "8\n",
      "[1, 7, 8, 1, 7, 8, 1, 7, 8, '1', 1, 7, 8, 1, 7, 8, 1, 7, 8, 1, 7, 8, 1, 7, 8]\n",
      "1\n",
      "[1, 7, 8, 1, 7, 8, 1, 7, 8, '1', 1, 7, 8, 1, 7, 8, 1, 7, 8, 1, 7, 8, 1, 7, 8, 1]\n",
      "7\n",
      "[1, 7, 8, 1, 7, 8, 1, 7, 8, '1', 1, 7, 8, 1, 7, 8, 1, 7, 8, 1, 7, 8, 1, 7, 8, 1, 7]\n",
      "8\n",
      "[1, 7, 8, 1, 7, 8, 1, 7, 8, '1', 1, 7, 8, 1, 7, 8, 1, 7, 8, 1, 7, 8, 1, 7, 8, 1, 7, 8]\n",
      "1\n",
      "[1, 7, 8, 1, 7, 8, 1, 7, 8, '1', 1, 7, 8, 1, 7, 8, 1, 7, 8, 1, 7, 8, 1, 7, 8, 1, 7, 8, 1]\n",
      "7\n",
      "[1, 7, 8, 1, 7, 8, 1, 7, 8, '1', 1, 7, 8, 1, 7, 8, 1, 7, 8, 1, 7, 8, 1, 7, 8, 1, 7, 8, 1, 7]\n",
      "8\n",
      "[1, 7, 8, 1, 7, 8, 1, 7, 8, '1', 1, 7, 8, 1, 7, 8, 1, 7, 8, 1, 7, 8, 1, 7, 8, 1, 7, 8, 1, 7, 8]\n",
      "1\n",
      "[1, 7, 8, 1, 7, 8, 1, 7, 8, '1', 1, 7, 8, 1, 7, 8, 1, 7, 8, 1, 7, 8, 1, 7, 8, 1, 7, 8, 1, 7, 8, 1]\n",
      "7\n",
      "[1, 7, 8, 1, 7, 8, 1, 7, 8, '1', 1, 7, 8, 1, 7, 8, 1, 7, 8, 1, 7, 8, 1, 7, 8, 1, 7, 8, 1, 7, 8, 1, 7]\n",
      "8\n",
      "[1, 7, 8, 1, 7, 8, 1, 7, 8, '1', 1, 7, 8, 1, 7, 8, 1, 7, 8, 1, 7, 8, 1, 7, 8, 1, 7, 8, 1, 7, 8, 1, 7, 8]\n",
      "1\n",
      "[1, 7, 8, 1, 7, 8, 1, 7, 8, '1', 1, 7, 8, 1, 7, 8, 1, 7, 8, 1, 7, 8, 1, 7, 8, 1, 7, 8, 1, 7, 8, 1, 7, 8, 1]\n",
      "7\n",
      "[1, 7, 8, 1, 7, 8, 1, 7, 8, '1', 1, 7, 8, 1, 7, 8, 1, 7, 8, 1, 7, 8, 1, 7, 8, 1, 7, 8, 1, 7, 8, 1, 7, 8, 1, 7]\n",
      "8\n",
      "[1, 7, 8, 1, 7, 8, 1, 7, 8, '1', 1, 7, 8, 1, 7, 8, 1, 7, 8, 1, 7, 8, 1, 7, 8, 1, 7, 8, 1, 7, 8, 1, 7, 8, 1, 7, 8]\n",
      "1\n",
      "[1, 7, 8, 1, 7, 8, 1, 7, 8, '1', 1, 7, 8, 1, 7, 8, 1, 7, 8, 1, 7, 8, 1, 7, 8, 1, 7, 8, 1, 7, 8, 1, 7, 8, 1, 7, 8, 1]\n",
      "7\n",
      "[1, 7, 8, 1, 7, 8, 1, 7, 8, '1', 1, 7, 8, 1, 7, 8, 1, 7, 8, 1, 7, 8, 1, 7, 8, 1, 7, 8, 1, 7, 8, 1, 7, 8, 1, 7, 8, 1, 7]\n",
      "8\n",
      "[1, 7, 8, 1, 7, 8, 1, 7, 8, '1', 1, 7, 8, 1, 7, 8, 1, 7, 8, 1, 7, 8, 1, 7, 8, 1, 7, 8, 1, 7, 8, 1, 7, 8, 1, 7, 8, 1, 7, 8]\n"
     ]
    }
   ],
   "source": [
    "s= \"one1seveneight\"\n",
    "answer = []\n",
    "number = {'zero':0, 'one':1, 'two':2, 'three':3, 'four':4, 'five':5, 'six':6, 'seven':7, 'eight':8, 'nine':9}\n",
    "\n",
    "for j in s:\n",
    "        if j.isdigit() != True:\n",
    "            for i in number:\n",
    "                if i in s: \n",
    "                    i = number.get(i)\n",
    "                    answer.append(i)\n",
    "                    print(i)\n",
    "                    print(answer)\n",
    "        else:\n",
    "            answer.append(j)\n",
    "            print(answer)"
   ]
  },
  {
   "cell_type": "code",
   "execution_count": null,
   "metadata": {},
   "outputs": [],
   "source": []
  }
 ],
 "metadata": {
  "interpreter": {
   "hash": "92adb05438905df6de4687daafcf1cce5d284141f7aba8feef918d2743df949f"
  },
  "kernelspec": {
   "display_name": "Python 3.8.8 64-bit ('base': conda)",
   "name": "python3"
  },
  "language_info": {
   "codemirror_mode": {
    "name": "ipython",
    "version": 3
   },
   "file_extension": ".py",
   "mimetype": "text/x-python",
   "name": "python",
   "nbconvert_exporter": "python",
   "pygments_lexer": "ipython3",
   "version": "3.8.8"
  },
  "orig_nbformat": 4
 },
 "nbformat": 4,
 "nbformat_minor": 2
}
