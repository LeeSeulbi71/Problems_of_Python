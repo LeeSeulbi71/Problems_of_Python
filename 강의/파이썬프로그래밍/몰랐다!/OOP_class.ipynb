{
 "cells": [
  {
   "cell_type": "markdown",
   "metadata": {},
   "source": [
    "# 객체 지향 프로그램\n",
    "Object-Oriented Programming, OOP\n",
    "\n",
    "- 객체: 실생활에서 일종의 물건\n",
    "    - 속성 Attribute -> Variable\n",
    "    - 행동 Action -> 함수\n"
   ]
  },
  {
   "cell_type": "code",
   "execution_count": null,
   "metadata": {},
   "outputs": [],
   "source": [
    "class ScoccerPlayer(object):\n",
    "    def __init__(self, name, position, back_number) -> None:\n",
    "        self.name = name\n",
    "        self.position = position\n",
    "        self.back_number = back_number"
   ]
  },
  {
   "cell_type": "markdown",
   "metadata": {},
   "source": [
    "## 알아두면 상식!\n",
    "### 파이썬에서 _의미\n",
    ": 특수한 예약 함수나 변수에 사용됨"
   ]
  },
  {
   "cell_type": "code",
   "execution_count": null,
   "metadata": {},
   "outputs": [],
   "source": [
    "class SoccerPlayer:\n",
    "    def __str__(self) -> str:\n",
    "        return 'Hello, My name is %s, I play in %s in center'%(self.name, self.position)\n",
    "        "
   ]
  },
  {
   "cell_type": "markdown",
   "metadata": {},
   "source": [
    "### Class 구현 - Function\n",
    ": self를 반드시 추가해야만 class 함수로 인정"
   ]
  },
  {
   "cell_type": "code",
   "execution_count": null,
   "metadata": {},
   "outputs": [],
   "source": [
    "class SoccerPlayer:\n",
    "    def change_back_number(self, new_number):\n",
    "        print('선수의 등번호를 변경합니다 : From %d to %d' % (self.back_number, new_number))\n",
    "        self.back_number = new_number"
   ]
  },
  {
   "cell_type": "markdown",
   "metadata": {},
   "source": [
    "## Class 사용하기 \n",
    ": Object 이름 선언과 함께 초기값 입력 하기"
   ]
  },
  {
   "cell_type": "code",
   "execution_count": null,
   "metadata": {},
   "outputs": [],
   "source": [
    "Jinhyun = SoccerPlayer('Jinhyun', 'MF', 10)"
   ]
  },
  {
   "cell_type": "markdown",
   "metadata": {},
   "source": [
    "## Class - Inheritance\n",
    ": 부모클래스로부터 **속성과 Method**를 물려받은 자식 클래스를 생성하는 것"
   ]
  },
  {
   "cell_type": "code",
   "execution_count": 1,
   "metadata": {},
   "outputs": [],
   "source": [
    "class Person:\n",
    "    def __init__(self, name, age, gender) -> None:\n",
    "        self.name = name\n",
    "        self.age = age\n",
    "        self.gender = gender\n",
    "    def about_me(self):\n",
    "        print('저의 이름은', self.name, '이구요, 제 나이는 ', str(self.age), '살입니다.')"
   ]
  },
  {
   "cell_type": "code",
   "execution_count": 2,
   "metadata": {},
   "outputs": [],
   "source": [
    "class Employee(Person):\n",
    "    def __init__(self, name, age, gender, salary, hire_date):\n",
    "        super().__init__(name, age, gender)\n",
    "        self.salary = salary\n",
    "        self.hire_date = hire_date\n",
    "    def do_work(self):\n",
    "        print('열심히 일을 합니다.')\n",
    "    def about_me(self):\n",
    "        super().about_me()\n",
    "        print('제 급여는 ', self.salary, '원 이구요, 제 입사일은 ', self.hire_date, '입니다.')"
   ]
  },
  {
   "cell_type": "markdown",
   "metadata": {},
   "source": [
    "## class 특징\n",
    "- 다형성: 같은 이름 메소드의 내부 로직을 다르게 작성\n",
    "    - OOP의 중요한 개념이지만, 너무 깊이 알 필요는 없음\n",
    "- 가시성: 객체의 정보를 볼 수 있는 레벨을 조절하는 것\n",
    "    - **누구나 객체 안에 모든 변수를 볼 필요가 없음**\n",
    "    - 객체를 사용하는 사용자가 임의로 정보를 수정할 수도 있음\n",
    "    - 필요없는 정보에는 접근할 필요가 없음\n",
    "    - 만약 제품으로 판매를 할 때에는 소스의 보호를 위해 필요함\n",
    "    - 캡술화 or 정보 은닉\n",
    "    "
   ]
  },
  {
   "cell_type": "code",
   "execution_count": 3,
   "metadata": {},
   "outputs": [],
   "source": [
    "# Visibility Example\n",
    "\n",
    "class Product:\n",
    "    pass\n",
    "class Inventory:\n",
    "    def __init__(self) -> None:\n",
    "        self.__items = [] # 함부로 접근하지 못하도록 언더바 2개!!!\n",
    "    def add_new_item(self, product):\n",
    "        if type(product) == Product:\n",
    "            self.__items.append(product)\n",
    "            print('new item added')\n",
    "        else:\n",
    "            raise ValueError('Invaild item')\n",
    "    def get_number_of_items(self):\n",
    "        return len(self.__items)"
   ]
  },
  {
   "cell_type": "code",
   "execution_count": 4,
   "metadata": {},
   "outputs": [],
   "source": [
    "# 접근 허용\n",
    "class Inventory:\n",
    "    def __init__(self) -> None:\n",
    "        self.__items = [] # Private 변수로 선언 (접근 불가)\n",
    "    \n",
    "    @property\n",
    "    def items(self):\n",
    "        return self.__items\n",
    "        #Property decorator로 함수를 변수처럼 호출"
   ]
  }
 ],
 "metadata": {
  "interpreter": {
   "hash": "92adb05438905df6de4687daafcf1cce5d284141f7aba8feef918d2743df949f"
  },
  "kernelspec": {
   "display_name": "Python 3.8.8 64-bit ('base': conda)",
   "language": "python",
   "name": "python3"
  },
  "language_info": {
   "codemirror_mode": {
    "name": "ipython",
    "version": 3
   },
   "file_extension": ".py",
   "mimetype": "text/x-python",
   "name": "python",
   "nbconvert_exporter": "python",
   "pygments_lexer": "ipython3",
   "version": "3.8.8"
  },
  "orig_nbformat": 4
 },
 "nbformat": 4,
 "nbformat_minor": 2
}
