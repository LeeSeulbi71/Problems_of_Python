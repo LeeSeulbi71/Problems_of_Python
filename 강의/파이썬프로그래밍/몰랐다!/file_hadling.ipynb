{
 "cells": [
  {
   "cell_type": "markdown",
   "metadata": {},
   "source": [
    "# 1. 파일\n",
    ": 컴퓨터를 실행할 때 가장 기본이 되는 단위\n",
    "-> 아이콘을 누르는 것 = 파일의 실행을 명령\n",
    "\n",
    "- 파일 = 디렉토리 + 파일\n",
    "- 디렉토리 \n",
    "    : 폴더 or 디렉토리\n",
    "    - 파일과 다른 디렉토리를 포함할 수 있음\n",
    "- 파일\n",
    "    : 컴퓨터에서 정보를 저장하는 논리적인 단위\n",
    "    - 파일명 + 확장자\n",
    "    - 실행, 읽기, 쓰기 등\n",
    "\n",
    "- 파일의 종류\n",
    "1. Binary 파일: 컴퓨터만 이해할 수 있는 형태인 이진(법) 형식으로 저장된 파일\n",
    "    - 일반적으로 메모장으로 열면 내용이 깨져 보임\n",
    "    - 엑셀 파일, 워드 파일 등\n",
    "2. Text 파일: 인간도 이해할 수 있는 형태인 문자열 형식으로 저장된 파일\n",
    "    - 메모장으로 열면 확인 가능\n",
    "    - 메모장에 저장된 파일, HTML 파일, 파이썬 코드 파일 등\n",
    "\n",
    "# 2. 파이썬에서 파일을 다루는 절차\n",
    "1. 파일 열기 **open() 함수**\n",
    ": 저장 장치 내의 위치와 파일 이름을 지정해서 파일을 가져옴 -> 저장 장치 내의 파일 위치 = 경로 (path)\n",
    "    - encoding 인자를 통해 파일의 인코딩 형식 지정 가능\n",
    "2. 사용 목적에 따라 사용 **r, w 모드 등**\n",
    ": 내용 확인 및 새로운 내용 추가 또는 기존 내용 삭제 가능\n",
    "    - r: 읽기 전용 모드 _기본값_\n",
    "    - w: 쓰기 전용 모드 -> 파일이 없으면 생성, 있으면 덮어씀\n",
    "    - a: append 추가 모드 -> 뒤에 더 작성함 + 기존 파일이 없다면 새로운 파일 생성\n",
    "    - x: 쓰기 전용 모드로 염 -> 파일을 새로 만듦 + 파일이 있을 경우 에러 발생\n",
    "    - +: r+나, w+과 같은 조함 가능 -> 읽기 모드로 열어 쓰기까지 가능 (r+)\n",
    "    - t: text의 약자, 텍스트 파일 형식으로 파일을 열거나 생성 (wt)\n",
    "    - b: binary의 약자로 이진 파일 형식으로 파일을 열거나 생성 (wb)\n",
    "3. 파일 닫기 **close()함수**\n",
    ": 사용이 끝나면 메모리 반환\n",
    "    - 컴퓨터의 입출력을 담당하는 프로세서에서 데이터는 버퍼링된 후 처리\n",
    "    - buffer: 임시 기억 공간\n",
    "    - close 함수를 통해 버퍼의 내용이 디스크에 쓰여지고 그 메모리를 비워짐"
   ]
  },
  {
   "cell_type": "code",
   "execution_count": null,
   "metadata": {},
   "outputs": [],
   "source": [
    "f = open('파일 이름', '접근 모드') #파일 열기\n",
    "f. close #파일 닫기"
   ]
  },
  {
   "cell_type": "code",
   "execution_count": 1,
   "metadata": {},
   "outputs": [
    {
     "name": "stdout",
     "output_type": "stream",
     "text": [
      "I am happy to join with you today in what will go down in history as the greatest demonstration for freedom in the history of our nation.\n",
      "\n",
      "Five score years ago, a great American, in whose symbolic shadow we stand today, signed the Emancipation Proclamation. This momentous decree came as a great beacon light of hope to millions of Negro slaves who had been seared in the flames of withering injustice. It came as a joyous daybreak to end the long night of their captivity.\n",
      "\n",
      "But one hundred years later, the Negro still is not free. One hundred years later, the life of the Negro is still sadly crippled by the manacles of segregation and the chains of discrimination. One hundred years later, the Negro lives on a lonely island of poverty in the midst of a vast ocean of material prosperity. One hundred years later, the Negro is still languished in the corners of American society and finds himself an exile in his own land. And so we've come here today to dramatize a shameful condition.\n",
      "\n",
      "In a sense we've come to our nation's capital to cash a check. When the architects of our republic wrote the magnificent words of the Constitution and the Declaration of Independence, they were signing a promissory note to which every American was to fall heir. This note was a promise that all men, yes, black men as well as white men, would be guaranteed the \"unalienable Rights\" of \"Life, Liberty and the pursuit of Happiness.\" It is obvious today that America has defaulted on this promissory note, insofar as her citizens of color are concerned. Instead of honoring this sacred obligation, America has given the Negro people a bad check, a check which has come back marked \"insufficient funds.\"\n",
      "\n",
      "But we refuse to believe that the bank of justice is bankrupt. We refuse to believe that there are insufficient funds in the great vaults of opportunity of this nation. And so, we've come to cash this check, a check that will give us upon demand the riches of freedom and the security of justice.\n",
      "\n",
      "We have also come to this hallowed spot to remind America of the fierce urgency of Now. This is no time to engage in the luxury of cooling off or to take the tranquilizing drug of gradualism. Now is the time to make real the promises of democracy. Now is the time to rise from the dark and desolate valley of segregation to the sunlit path of racial justice. Now is the time to lift our nation from the quicksands of racial injustice to the solid rock of brotherhood. Now is the time to make justice a reality for all of God's children.\n",
      "\n",
      "It would be fatal for the nation to overlook the urgency of the moment. This sweltering summer of the Negro's legitimate discontent will not pass until there is an invigorating autumn of freedom and equality. Nineteen sixty-three is not an end, but a beginning. And those who hope that the Negro needed to blow off steam and will now be content will have a rude awakening if the nation returns to business as usual. And there will be neither rest nor tranquility in America until the Negro is granted his citizenship rights. The whirlwinds of revolt will continue to shake the foundations of our nation until the bright day of justice emerges.\n",
      "\n",
      "But there is something that I must say to my people, who stand on the warm threshold which leads into the palace of justice: In the process of gaining our rightful place, we must not be guilty of wrongful deeds. Let us not seek to satisfy our thirst for freedom by drinking from the cup of bitterness and hatred. We must forever conduct our struggle on the high plane of dignity and discipline. We must not allow our creative protest to degenerate into physical violence. Again and again, we must rise to the majestic heights of meeting physical force with soul force.\n",
      "\n",
      "The marvelous new militancy which has engulfed the Negro community must not lead us to a distrust of all white people, for many of our white brothers, as evidenced by their presence here today, have come to realize that their destiny is tied up with our destiny. And they have come to realize that their freedom is inextricably bound to our freedom.\n",
      "\n",
      "We cannot walk alone.\n",
      "\n",
      "And as we walk, we must make the pledge that we shall always march ahead.\n",
      "\n",
      "We cannot turn back.\n",
      "\n",
      "There are those who are asking the devotees of civil rights, \"When will you be satisfied?\" We can never be satisfied as long as the Negro is the victim of the unspeakable horrors of police brutality. We can never be satisfied as long as our bodies, heavy with the fatigue of travel, cannot gain lodging in the motels of the highways and the hotels of the cities. We cannot be satisfied as long as the negro's basic mobility is from a smaller ghetto to a larger one. We can never be satisfied as long as our children are stripped of their self-hood and robbed of their dignity by signs stating: \"For Whites Only.\" We cannot be satisfied as long as a Negro in Mississippi cannot vote and a Negro in New York believes he has nothing for which to vote. No, no, we are not satisfied, and we will not be satisfied until \"justice rolls down like waters, and righteousness like a mighty stream.\"쨔\n",
      "\n",
      "I am not unmindful that some of you have come here out of great trials and tribulations. Some of you have come fresh from narrow jail cells. And some of you have come from areas where your quest -- quest for freedom left you battered by the storms of persecution and staggered by the winds of police brutality. You have been the veterans of creative suffering. Continue to work with the faith that unearned suffering is redemptive. Go back to Mississippi, go back to Alabama, go back to South Carolina, go back to Georgia, go back to Louisiana, go back to the slums and ghettos of our northern cities, knowing that somehow this situation can and will be changed.\n",
      "\n",
      "Let us not wallow in the valley of despair, I say to you today, my friends.\n",
      "\n",
      "And so even though we face the difficulties of today and tomorrow, I still have a dream. It is a dream deeply rooted in the American dream.\n",
      "\n",
      "I have a dream that one day this nation will rise up and live out the true meaning of its creed: \"We hold these truths to be self-evident, that all men are created equal.\"\n",
      "\n",
      "I have a dream that one day on the red hills of Georgia, the sons of former slaves and the sons of former slave owners will be able to sit down together at the table of brotherhood.\n",
      "\n",
      "I have a dream that one day even the state of Mississippi, a state sweltering with the heat of injustice, sweltering with the heat of oppression, will be transformed into an oasis of freedom and justice.\n",
      "\n",
      "I have a dream that my four little children will one day live in a nation where they will not be judged by the color of their skin but by the content of their character.\n",
      "\n",
      "I have a dream today!\n",
      "\n",
      "I have a dream that one day, down in Alabama, with its vicious racists, with its governor having his lips dripping with the words of \"interposition\" and \"nullification\" -- one day right there in Alabama little black boys and black girls will be able to join hands with little white boys and white girls as sisters and brothers.\n",
      "\n",
      "I have a dream today!\n",
      "\n",
      "I have a dream that one day every valley shall be exalted, and every hill and mountain shall be made low, the rough places will be made plain, and the crooked places will be made straight; \"and the glory of the Lord shall be revealed and all flesh shall see it together.\"2\n",
      "\n",
      "This is our hope, and this is the faith that I go back to the South with.\n",
      "\n",
      "With this faith, we will be able to hew out of the mountain of despair a stone of hope. With this faith, we will be able to transform the jangling discords of our nation into a beautiful symphony of brotherhood. With this faith, we will be able to work together, to pray together, to struggle together, to go to jail together, to stand up for freedom together, knowing that we will be free one day.\n",
      "\n",
      "And this will be the day -- this will be the day when all of God's children will be able to sing with new meaning:\n",
      "\n",
      "My country 'tis of thee, sweet land of liberty, of thee I sing.\n",
      "\n",
      "Land where my fathers died, land of the Pilgrim's pride,\n",
      "\n",
      "From every mountainside, let freedom ring!\n",
      "\n",
      "And if America is to be a great nation, this must become true.\n",
      "\n",
      "And so let freedom ring from the prodigious hilltops of New Hampshire.\n",
      "\n",
      "Let freedom ring from the mighty mountains of New York.\n",
      "\n",
      "Let freedom ring from the heightening Alleghenies of Pennsylvania.\n",
      "\n",
      "Let freedom ring from the snow-capped Rockies of Colorado.\n",
      "\n",
      "Let freedom ring from the curvaceous slopes of California.\n",
      "\n",
      "But not only that:\n",
      "\n",
      "Let freedom ring from Stone Mountain of Georgia.\n",
      "\n",
      "Let freedom ring from Lookout Mountain of Tennessee.\n",
      "\n",
      "Let freedom ring from every hill and molehill of Mississippi.\n",
      "\n",
      "From every mountainside, let freedom ring.\n",
      "\n",
      "And when this happens, and when we allow freedom ring, when we let it ring from every village and every hamlet, from every state and every city, we will be able to speed up that day when all of God's children, black men and white men, Jews and Gentiles, Protestants and Catholics, will be able to join hands and sing in the words of the old Negro spiritual:\n",
      "\n",
      "                Free at last! Free at last!\n",
      "\n",
      "                Thank God Almighty, we are free at last!\n"
     ]
    }
   ],
   "source": [
    "f = open('lec12-i-have-a-dream.txt', 'r')\n",
    "contents = f.read()\n",
    "print(contents)\n",
    "f.close()"
   ]
  },
  {
   "cell_type": "code",
   "execution_count": 2,
   "metadata": {},
   "outputs": [
    {
     "name": "stdout",
     "output_type": "stream",
     "text": [
      "<class 'str'>\n"
     ]
    }
   ],
   "source": [
    "with open('lec12-i-have-a-dream.txt', 'r') as my_file:\n",
    "    contents = my_file.read()\n",
    "    print(type(contents))\n",
    "\n",
    "#close를 굳이 안 써도 되기 때문에 프로그래머는 with 구문을 더 선호"
   ]
  },
  {
   "cell_type": "code",
   "execution_count": 3,
   "metadata": {},
   "outputs": [
    {
     "name": "stdout",
     "output_type": "stream",
     "text": [
      "<class 'list'>\n",
      "['I am happy to join with you today in what will go down in history as the greatest demonstration for freedom in the history of our nation.\\n', '\\n', 'Five score years ago, a great American, in whose symbolic shadow we stand today, signed the Emancipation Proclamation. This momentous decree came as a great beacon light of hope to millions of Negro slaves who had been seared in the flames of withering injustice. It came as a joyous daybreak to end the long night of their captivity.\\n', '\\n', \"But one hundred years later, the Negro still is not free. One hundred years later, the life of the Negro is still sadly crippled by the manacles of segregation and the chains of discrimination. One hundred years later, the Negro lives on a lonely island of poverty in the midst of a vast ocean of material prosperity. One hundred years later, the Negro is still languished in the corners of American society and finds himself an exile in his own land. And so we've come here today to dramatize a shameful condition.\\n\", '\\n', 'In a sense we\\'ve come to our nation\\'s capital to cash a check. When the architects of our republic wrote the magnificent words of the Constitution and the Declaration of Independence, they were signing a promissory note to which every American was to fall heir. This note was a promise that all men, yes, black men as well as white men, would be guaranteed the \"unalienable Rights\" of \"Life, Liberty and the pursuit of Happiness.\" It is obvious today that America has defaulted on this promissory note, insofar as her citizens of color are concerned. Instead of honoring this sacred obligation, America has given the Negro people a bad check, a check which has come back marked \"insufficient funds.\"\\n', '\\n', \"But we refuse to believe that the bank of justice is bankrupt. We refuse to believe that there are insufficient funds in the great vaults of opportunity of this nation. And so, we've come to cash this check, a check that will give us upon demand the riches of freedom and the security of justice.\\n\", '\\n', \"We have also come to this hallowed spot to remind America of the fierce urgency of Now. This is no time to engage in the luxury of cooling off or to take the tranquilizing drug of gradualism. Now is the time to make real the promises of democracy. Now is the time to rise from the dark and desolate valley of segregation to the sunlit path of racial justice. Now is the time to lift our nation from the quicksands of racial injustice to the solid rock of brotherhood. Now is the time to make justice a reality for all of God's children.\\n\", '\\n', \"It would be fatal for the nation to overlook the urgency of the moment. This sweltering summer of the Negro's legitimate discontent will not pass until there is an invigorating autumn of freedom and equality. Nineteen sixty-three is not an end, but a beginning. And those who hope that the Negro needed to blow off steam and will now be content will have a rude awakening if the nation returns to business as usual. And there will be neither rest nor tranquility in America until the Negro is granted his citizenship rights. The whirlwinds of revolt will continue to shake the foundations of our nation until the bright day of justice emerges.\\n\", '\\n', 'But there is something that I must say to my people, who stand on the warm threshold which leads into the palace of justice: In the process of gaining our rightful place, we must not be guilty of wrongful deeds. Let us not seek to satisfy our thirst for freedom by drinking from the cup of bitterness and hatred. We must forever conduct our struggle on the high plane of dignity and discipline. We must not allow our creative protest to degenerate into physical violence. Again and again, we must rise to the majestic heights of meeting physical force with soul force.\\n', '\\n', 'The marvelous new militancy which has engulfed the Negro community must not lead us to a distrust of all white people, for many of our white brothers, as evidenced by their presence here today, have come to realize that their destiny is tied up with our destiny. And they have come to realize that their freedom is inextricably bound to our freedom.\\n', '\\n', 'We cannot walk alone.\\n', '\\n', 'And as we walk, we must make the pledge that we shall always march ahead.\\n', '\\n', 'We cannot turn back.\\n', '\\n', 'There are those who are asking the devotees of civil rights, \"When will you be satisfied?\" We can never be satisfied as long as the Negro is the victim of the unspeakable horrors of police brutality. We can never be satisfied as long as our bodies, heavy with the fatigue of travel, cannot gain lodging in the motels of the highways and the hotels of the cities. We cannot be satisfied as long as the negro\\'s basic mobility is from a smaller ghetto to a larger one. We can never be satisfied as long as our children are stripped of their self-hood and robbed of their dignity by signs stating: \"For Whites Only.\" We cannot be satisfied as long as a Negro in Mississippi cannot vote and a Negro in New York believes he has nothing for which to vote. No, no, we are not satisfied, and we will not be satisfied until \"justice rolls down like waters, and righteousness like a mighty stream.\"쨔\\n', '\\n', 'I am not unmindful that some of you have come here out of great trials and tribulations. Some of you have come fresh from narrow jail cells. And some of you have come from areas where your quest -- quest for freedom left you battered by the storms of persecution and staggered by the winds of police brutality. You have been the veterans of creative suffering. Continue to work with the faith that unearned suffering is redemptive. Go back to Mississippi, go back to Alabama, go back to South Carolina, go back to Georgia, go back to Louisiana, go back to the slums and ghettos of our northern cities, knowing that somehow this situation can and will be changed.\\n', '\\n', 'Let us not wallow in the valley of despair, I say to you today, my friends.\\n', '\\n', 'And so even though we face the difficulties of today and tomorrow, I still have a dream. It is a dream deeply rooted in the American dream.\\n', '\\n', 'I have a dream that one day this nation will rise up and live out the true meaning of its creed: \"We hold these truths to be self-evident, that all men are created equal.\"\\n', '\\n', 'I have a dream that one day on the red hills of Georgia, the sons of former slaves and the sons of former slave owners will be able to sit down together at the table of brotherhood.\\n', '\\n', 'I have a dream that one day even the state of Mississippi, a state sweltering with the heat of injustice, sweltering with the heat of oppression, will be transformed into an oasis of freedom and justice.\\n', '\\n', 'I have a dream that my four little children will one day live in a nation where they will not be judged by the color of their skin but by the content of their character.\\n', '\\n', 'I have a dream today!\\n', '\\n', 'I have a dream that one day, down in Alabama, with its vicious racists, with its governor having his lips dripping with the words of \"interposition\" and \"nullification\" -- one day right there in Alabama little black boys and black girls will be able to join hands with little white boys and white girls as sisters and brothers.\\n', '\\n', 'I have a dream today!\\n', '\\n', 'I have a dream that one day every valley shall be exalted, and every hill and mountain shall be made low, the rough places will be made plain, and the crooked places will be made straight; \"and the glory of the Lord shall be revealed and all flesh shall see it together.\"2\\n', '\\n', 'This is our hope, and this is the faith that I go back to the South with.\\n', '\\n', 'With this faith, we will be able to hew out of the mountain of despair a stone of hope. With this faith, we will be able to transform the jangling discords of our nation into a beautiful symphony of brotherhood. With this faith, we will be able to work together, to pray together, to struggle together, to go to jail together, to stand up for freedom together, knowing that we will be free one day.\\n', '\\n', \"And this will be the day -- this will be the day when all of God's children will be able to sing with new meaning:\\n\", '\\n', \"My country 'tis of thee, sweet land of liberty, of thee I sing.\\n\", '\\n', \"Land where my fathers died, land of the Pilgrim's pride,\\n\", '\\n', 'From every mountainside, let freedom ring!\\n', '\\n', 'And if America is to be a great nation, this must become true.\\n', '\\n', 'And so let freedom ring from the prodigious hilltops of New Hampshire.\\n', '\\n', 'Let freedom ring from the mighty mountains of New York.\\n', '\\n', 'Let freedom ring from the heightening Alleghenies of Pennsylvania.\\n', '\\n', 'Let freedom ring from the snow-capped Rockies of Colorado.\\n', '\\n', 'Let freedom ring from the curvaceous slopes of California.\\n', '\\n', 'But not only that:\\n', '\\n', 'Let freedom ring from Stone Mountain of Georgia.\\n', '\\n', 'Let freedom ring from Lookout Mountain of Tennessee.\\n', '\\n', 'Let freedom ring from every hill and molehill of Mississippi.\\n', '\\n', 'From every mountainside, let freedom ring.\\n', '\\n', \"And when this happens, and when we allow freedom ring, when we let it ring from every village and every hamlet, from every state and every city, we will be able to speed up that day when all of God's children, black men and white men, Jews and Gentiles, Protestants and Catholics, will be able to join hands and sing in the words of the old Negro spiritual:\\n\", '\\n', '                Free at last! Free at last!\\n', '\\n', '                Thank God Almighty, we are free at last!']\n"
     ]
    }
   ],
   "source": [
    "with open('lec12-i-have-a-dream.txt', 'r') as my_file:\n",
    "    content_list = my_file.readlines() # 파일 전체를 list로 반환\n",
    "    print(type(content_list))\n",
    "    print(content_list)"
   ]
  },
  {
   "cell_type": "code",
   "execution_count": 5,
   "metadata": {},
   "outputs": [
    {
     "name": "stdout",
     "output_type": "stream",
     "text": [
      "0=I am happy to join with you today in what will go down in history as the greatest demonstration for freedom in the history of our nation.\n",
      "1=\n",
      "2=Five score years ago, a great American, in whose symbolic shadow we stand today, signed the Emancipation Proclamation. This momentous decree came as a great beacon light of hope to millions of Negro slaves who had been seared in the flames of withering injustice. It came as a joyous daybreak to end the long night of their captivity.\n",
      "3=\n",
      "4=But one hundred years later, the Negro still is not free. One hundred years later, the life of the Negro is still sadly crippled by the manacles of segregation and the chains of discrimination. One hundred years later, the Negro lives on a lonely island of poverty in the midst of a vast ocean of material prosperity. One hundred years later, the Negro is still languished in the corners of American society and finds himself an exile in his own land. And so we've come here today to dramatize a shameful condition.\n",
      "5=\n",
      "6=In a sense we've come to our nation's capital to cash a check. When the architects of our republic wrote the magnificent words of the Constitution and the Declaration of Independence, they were signing a promissory note to which every American was to fall heir. This note was a promise that all men, yes, black men as well as white men, would be guaranteed the \"unalienable Rights\" of \"Life, Liberty and the pursuit of Happiness.\" It is obvious today that America has defaulted on this promissory note, insofar as her citizens of color are concerned. Instead of honoring this sacred obligation, America has given the Negro people a bad check, a check which has come back marked \"insufficient funds.\"\n",
      "7=\n",
      "8=But we refuse to believe that the bank of justice is bankrupt. We refuse to believe that there are insufficient funds in the great vaults of opportunity of this nation. And so, we've come to cash this check, a check that will give us upon demand the riches of freedom and the security of justice.\n",
      "9=\n",
      "10=We have also come to this hallowed spot to remind America of the fierce urgency of Now. This is no time to engage in the luxury of cooling off or to take the tranquilizing drug of gradualism. Now is the time to make real the promises of democracy. Now is the time to rise from the dark and desolate valley of segregation to the sunlit path of racial justice. Now is the time to lift our nation from the quicksands of racial injustice to the solid rock of brotherhood. Now is the time to make justice a reality for all of God's children.\n",
      "11=\n",
      "12=It would be fatal for the nation to overlook the urgency of the moment. This sweltering summer of the Negro's legitimate discontent will not pass until there is an invigorating autumn of freedom and equality. Nineteen sixty-three is not an end, but a beginning. And those who hope that the Negro needed to blow off steam and will now be content will have a rude awakening if the nation returns to business as usual. And there will be neither rest nor tranquility in America until the Negro is granted his citizenship rights. The whirlwinds of revolt will continue to shake the foundations of our nation until the bright day of justice emerges.\n",
      "13=\n",
      "14=But there is something that I must say to my people, who stand on the warm threshold which leads into the palace of justice: In the process of gaining our rightful place, we must not be guilty of wrongful deeds. Let us not seek to satisfy our thirst for freedom by drinking from the cup of bitterness and hatred. We must forever conduct our struggle on the high plane of dignity and discipline. We must not allow our creative protest to degenerate into physical violence. Again and again, we must rise to the majestic heights of meeting physical force with soul force.\n",
      "15=\n",
      "16=The marvelous new militancy which has engulfed the Negro community must not lead us to a distrust of all white people, for many of our white brothers, as evidenced by their presence here today, have come to realize that their destiny is tied up with our destiny. And they have come to realize that their freedom is inextricably bound to our freedom.\n",
      "17=\n",
      "18=We cannot walk alone.\n",
      "19=\n",
      "20=And as we walk, we must make the pledge that we shall always march ahead.\n",
      "21=\n",
      "22=We cannot turn back.\n",
      "23=\n",
      "24=There are those who are asking the devotees of civil rights, \"When will you be satisfied?\" We can never be satisfied as long as the Negro is the victim of the unspeakable horrors of police brutality. We can never be satisfied as long as our bodies, heavy with the fatigue of travel, cannot gain lodging in the motels of the highways and the hotels of the cities. We cannot be satisfied as long as the negro's basic mobility is from a smaller ghetto to a larger one. We can never be satisfied as long as our children are stripped of their self-hood and robbed of their dignity by signs stating: \"For Whites Only.\" We cannot be satisfied as long as a Negro in Mississippi cannot vote and a Negro in New York believes he has nothing for which to vote. No, no, we are not satisfied, and we will not be satisfied until \"justice rolls down like waters, and righteousness like a mighty stream.\"쨔\n",
      "25=\n",
      "26=I am not unmindful that some of you have come here out of great trials and tribulations. Some of you have come fresh from narrow jail cells. And some of you have come from areas where your quest -- quest for freedom left you battered by the storms of persecution and staggered by the winds of police brutality. You have been the veterans of creative suffering. Continue to work with the faith that unearned suffering is redemptive. Go back to Mississippi, go back to Alabama, go back to South Carolina, go back to Georgia, go back to Louisiana, go back to the slums and ghettos of our northern cities, knowing that somehow this situation can and will be changed.\n",
      "27=\n",
      "28=Let us not wallow in the valley of despair, I say to you today, my friends.\n",
      "29=\n",
      "30=And so even though we face the difficulties of today and tomorrow, I still have a dream. It is a dream deeply rooted in the American dream.\n",
      "31=\n",
      "32=I have a dream that one day this nation will rise up and live out the true meaning of its creed: \"We hold these truths to be self-evident, that all men are created equal.\"\n",
      "33=\n",
      "34=I have a dream that one day on the red hills of Georgia, the sons of former slaves and the sons of former slave owners will be able to sit down together at the table of brotherhood.\n",
      "35=\n",
      "36=I have a dream that one day even the state of Mississippi, a state sweltering with the heat of injustice, sweltering with the heat of oppression, will be transformed into an oasis of freedom and justice.\n",
      "37=\n",
      "38=I have a dream that my four little children will one day live in a nation where they will not be judged by the color of their skin but by the content of their character.\n",
      "39=\n",
      "40=I have a dream today!\n",
      "41=\n",
      "42=I have a dream that one day, down in Alabama, with its vicious racists, with its governor having his lips dripping with the words of \"interposition\" and \"nullification\" -- one day right there in Alabama little black boys and black girls will be able to join hands with little white boys and white girls as sisters and brothers.\n",
      "43=\n",
      "44=I have a dream today!\n",
      "45=\n",
      "46=I have a dream that one day every valley shall be exalted, and every hill and mountain shall be made low, the rough places will be made plain, and the crooked places will be made straight; \"and the glory of the Lord shall be revealed and all flesh shall see it together.\"2\n",
      "47=\n",
      "48=This is our hope, and this is the faith that I go back to the South with.\n",
      "49=\n",
      "50=With this faith, we will be able to hew out of the mountain of despair a stone of hope. With this faith, we will be able to transform the jangling discords of our nation into a beautiful symphony of brotherhood. With this faith, we will be able to work together, to pray together, to struggle together, to go to jail together, to stand up for freedom together, knowing that we will be free one day.\n",
      "51=\n",
      "52=And this will be the day -- this will be the day when all of God's children will be able to sing with new meaning:\n",
      "53=\n",
      "54=My country 'tis of thee, sweet land of liberty, of thee I sing.\n",
      "55=\n",
      "56=Land where my fathers died, land of the Pilgrim's pride,\n",
      "57=\n",
      "58=From every mountainside, let freedom ring!\n",
      "59=\n",
      "60=And if America is to be a great nation, this must become true.\n",
      "61=\n",
      "62=And so let freedom ring from the prodigious hilltops of New Hampshire.\n",
      "63=\n",
      "64=Let freedom ring from the mighty mountains of New York.\n",
      "65=\n",
      "66=Let freedom ring from the heightening Alleghenies of Pennsylvania.\n",
      "67=\n",
      "68=Let freedom ring from the snow-capped Rockies of Colorado.\n",
      "69=\n",
      "70=Let freedom ring from the curvaceous slopes of California.\n",
      "71=\n",
      "72=But not only that:\n",
      "73=\n",
      "74=Let freedom ring from Stone Mountain of Georgia.\n",
      "75=\n",
      "76=Let freedom ring from Lookout Mountain of Tennessee.\n",
      "77=\n",
      "78=Let freedom ring from every hill and molehill of Mississippi.\n",
      "79=\n",
      "80=From every mountainside, let freedom ring.\n",
      "81=\n",
      "82=And when this happens, and when we allow freedom ring, when we let it ring from every village and every hamlet, from every state and every city, we will be able to speed up that day when all of God's children, black men and white men, Jews and Gentiles, Protestants and Catholics, will be able to join hands and sing in the words of the old Negro spiritual:\n",
      "83=\n",
      "84=                Free at last! Free at last!\n",
      "85=\n",
      "86=                Thank God Almighty, we are free at last!\n"
     ]
    }
   ],
   "source": [
    "#실행 시마다 한 줄씩 읽어 오기\n",
    "\n",
    "with open('lec12-i-have-a-dream.txt', 'r') as my_file:\n",
    "    i = 0\n",
    "    while 1:\n",
    "        line = my_file.readline() #line은 하나씩 lines는 전체\n",
    "        if not line:\n",
    "            break\n",
    "        print(str(i) + '=' + line.replace('\\n', \"\")) #한 줄씩 값 출력\n",
    "        i = i+1"
   ]
  },
  {
   "cell_type": "code",
   "execution_count": 6,
   "metadata": {},
   "outputs": [
    {
     "name": "stdout",
     "output_type": "stream",
     "text": [
      "Total Number of Characters:  9198\n",
      "Total Number of Words:  1656\n",
      "Total Number of Lines:  87\n"
     ]
    }
   ],
   "source": [
    "#단어 통계 정보\n",
    "with open('lec12-i-have-a-dream.txt', 'r') as my_file:\n",
    "    contents = my_file.read()\n",
    "    word_list = contents.split(' ') #빈칸 기준으로 단어를 분리하여 리스트\n",
    "    line_list = contents.split('\\n') #한줄씩 분리하여 리스트\n",
    "    \n",
    "print('Total Number of Characters: ', len(contents))\n",
    "print('Total Number of Words: ', len(word_list))\n",
    "print('Total Number of Lines: ', len(line_list))"
   ]
  },
  {
   "cell_type": "code",
   "execution_count": null,
   "metadata": {},
   "outputs": [],
   "source": [
    "#mode는 'w', encoding='utf8'"
   ]
  },
  {
   "cell_type": "code",
   "execution_count": 7,
   "metadata": {},
   "outputs": [],
   "source": [
    "#os 모듈을 사용하여 directory 다루기\n",
    "\n",
    "import os\n",
    "os.mkdir('log')\n",
    "\n",
    "if not os.path.isdir('log'):\n",
    "    os.mkdir('log')"
   ]
  },
  {
   "cell_type": "code",
   "execution_count": 8,
   "metadata": {},
   "outputs": [],
   "source": [
    "import os\n",
    "\n",
    "if not os.path.isdir('log'):\n",
    "    os.mkdir('log')\n",
    "if not os.path.exists('log/count_log.txt'):\n",
    "    f = open('log/count_log.txt', 'w', encoding='utf8')\n",
    "    f.write('기록이 시작됩니다. \\n')\n",
    "    f.close()\n",
    "with open('log/count_log.txt', 'a', encoding='utf8') as f:\n",
    "    import random, datetime\n",
    "    for i in range(1, 11):\n",
    "        stamp = str(datetime.datetime.now())\n",
    "        value = random.random() * 1000000\n",
    "        log_line = stamp + '\\t' + str(value) + '값이 생성되었습니다.' + '\\n'\n",
    "        f.write(log_line)"
   ]
  },
  {
   "cell_type": "markdown",
   "metadata": {},
   "source": [
    "# 3. Pickle\n",
    ": 파이썬의 객체를 영속화하는 built-in 객체\n",
    "- 데이터, 객체 등 실행 중 정보를 저장 -> 불러와서 사용\n",
    "- 저장해야 하는 정보, 계산 결과(모델) 등에 활용이 많음"
   ]
  }
 ],
 "metadata": {
  "interpreter": {
   "hash": "92adb05438905df6de4687daafcf1cce5d284141f7aba8feef918d2743df949f"
  },
  "kernelspec": {
   "display_name": "Python 3.8.8 64-bit (conda)",
   "language": "python",
   "name": "python3"
  },
  "language_info": {
   "codemirror_mode": {
    "name": "ipython",
    "version": 3
   },
   "file_extension": ".py",
   "mimetype": "text/x-python",
   "name": "python",
   "nbconvert_exporter": "python",
   "pygments_lexer": "ipython3",
   "version": "3.8.8"
  },
  "orig_nbformat": 4
 },
 "nbformat": 4,
 "nbformat_minor": 2
}
