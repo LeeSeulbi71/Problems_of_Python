{
 "cells": [
  {
   "cell_type": "markdown",
   "metadata": {},
   "source": [
    "# 모듈\n",
    ": 어떤 대상의 부분 혹은 조각 (레고 블록, 자동차 부품)\n",
    "\n",
    "- 파이썬의 Module == .py의 파일을 의미\n",
    "- 같은 폴더에 Module에 해당하는 .py 파일과 사용하는 .py 저장\n",
    "- import 문을 사용하여 Module을 호출\n",
    "\n",
    "## Namespave\n",
    ": 모듈을 호출할 때 범위를 정하는 방법\n",
    "\n",
    "- 모듈 안에는 함수와 클래스 등이 존재\n",
    "- 필요한 내용만 골라서 호출할 수 있음\n",
    "- from과 import 키워드를 사용함"
   ]
  },
  {
   "cell_type": "code",
   "execution_count": null,
   "metadata": {},
   "outputs": [],
   "source": [
    "import sklearn as sk # 별칭 사용\n",
    "from sklearn.ensemble import RandomForestClassifier # 모듈에서 특정 함수 또는 클래스만 호출\n",
    "from sklearn.ensemble import * # 모듈에서 모든 함수 또는 클래스 호출"
   ]
  },
  {
   "cell_type": "code",
   "execution_count": null,
   "metadata": {},
   "outputs": [],
   "source": [
    "# 알고 있으면 좋은 기본 라이브러리\n",
    "\n",
    "import random\n",
    "import time\n",
    "import urllib.request"
   ]
  },
  {
   "cell_type": "markdown",
   "metadata": {},
   "source": [
    "## 패키지\n",
    ": 모듈을 모아놓은 단위, 하나의 프로그램\n",
    "\n",
    "- 하나의 대형 프로젝트를 만드는 코드의 묶음\n",
    "- 다양한 모듈의 합, 폴더로 연결됨\n",
    "- __init__, __main__ 등 키워드 파일명이 사용\n",
    "- 다양한 오픈 소스들은 모두 패키지로 관리!\n",
    "\n",
    "# 시험 전에 패키지만 한 번 더 보기!"
   ]
  },
  {
   "cell_type": "code",
   "execution_count": null,
   "metadata": {},
   "outputs": [],
   "source": []
  }
 ],
 "metadata": {
  "language_info": {
   "name": "python"
  },
  "orig_nbformat": 4
 },
 "nbformat": 4,
 "nbformat_minor": 2
}
