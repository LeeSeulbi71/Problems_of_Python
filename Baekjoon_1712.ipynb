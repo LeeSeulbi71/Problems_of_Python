{
  "nbformat": 4,
  "nbformat_minor": 0,
  "metadata": {
    "colab": {
      "name": "Baekjoon_1712.ipynb",
      "provenance": [],
      "collapsed_sections": []
    },
    "kernelspec": {
      "name": "python3",
      "display_name": "Python 3"
    },
    "language_info": {
      "name": "python"
    }
  },
  "cells": [
    {
      "cell_type": "markdown",
      "metadata": {
        "id": "a3h9X19YQkNP"
      },
      "source": [
        "##백준 1712번_손익분기점"
      ]
    },
    {
      "cell_type": "code",
      "metadata": {
        "id": "_VySIcq4NU5M"
      },
      "source": [
        "money = list(map(int, input().split()))\n",
        "Quantity = 0\n",
        "\n",
        "while 1:\n",
        "    if  money[0] + money[1]*Quantity == money[2]*Quantity:\n",
        "        print(Quantity)\n",
        "    else:\n",
        "        Quantity += 1\n",
        "        continue"
      ],
      "execution_count": null,
      "outputs": []
    },
    {
      "cell_type": "markdown",
      "metadata": {
        "id": "zr_UuiVVNbZG"
      },
      "source": [
        "이 코드는 안 돌아감 ~...   \n",
        "일단   \n",
        "1. 손익분기점 고려 무시 ^^   \n",
        "  손익분기점이 생길 수 있는 조건부터 판별\n",
        "2. 손익분기점이 없는 경우, 무한루프에 빠져버림"
      ]
    },
    {
      "cell_type": "code",
      "metadata": {
        "colab": {
          "base_uri": "https://localhost:8080/"
        },
        "id": "zwLm2HwfNapg",
        "outputId": "4fbfc6ab-6fe7-46a0-88f1-4929cdb87b6b"
      },
      "source": [
        "A, B, C = map(int, input().split())\n",
        "\n",
        "if B>=C:\n",
        "    print(-1)\n",
        "else:\n",
        "    print(int(A/(C-B))+1)"
      ],
      "execution_count": 2,
      "outputs": [
        {
          "output_type": "stream",
          "name": "stdout",
          "text": [
            "2100000000 9 10\n",
            "2100000001\n"
          ]
        }
      ]
    },
    {
      "cell_type": "markdown",
      "metadata": {
        "id": "eNhms1xZNbHC"
      },
      "source": [
        "이 코드는 됨!   \n",
        "\n",
        "1. B>=C를 통해 손익분기점이 생기는지 고려해줌\n",
        "2. 이익이 생기기 시작하는 시점은 +1부터~!"
      ]
    }
  ]
}